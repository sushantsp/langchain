{
 "cells": [
  {
   "cell_type": "code",
   "execution_count": 1,
   "metadata": {},
   "outputs": [],
   "source": [
    "class Car:\n",
    "    def __init__(self, make, model, year):\n",
    "        self.make = make\n",
    "        self.model = model\n",
    "        self.year = year\n",
    "\n",
    "    def describe(self):\n",
    "        print(f\"{self.year} {self.make} {self.model}\")\n"
   ]
  },
  {
   "cell_type": "code",
   "execution_count": 2,
   "metadata": {},
   "outputs": [],
   "source": [
    "my_car = Car(\"Toyota\", \"Corolla\", 2021)"
   ]
  },
  {
   "cell_type": "code",
   "execution_count": 3,
   "metadata": {},
   "outputs": [
    {
     "name": "stdout",
     "output_type": "stream",
     "text": [
      "2021 Toyota Corolla\n"
     ]
    }
   ],
   "source": [
    "my_car.describe()"
   ]
  },
  {
   "cell_type": "code",
   "execution_count": 10,
   "metadata": {},
   "outputs": [],
   "source": [
    "class Book:\n",
    "    def __init__(self, title, author, year):\n",
    "        self.title = title\n",
    "        self.author = author\n",
    "        self.year = year\n",
    "\n",
    "    def get_info(self):\n",
    "        print(f\"Title: {self.title}, \\nAuthor: {self.author},\\nYear: {self.year}\")"
   ]
  },
  {
   "cell_type": "code",
   "execution_count": 11,
   "metadata": {},
   "outputs": [
    {
     "name": "stdout",
     "output_type": "stream",
     "text": [
      "Title: To Kill a Mockingbird, \n",
      "Author: Harper Lee,\n",
      "Year: 1960\n"
     ]
    }
   ],
   "source": [
    "my_book = Book(\"To Kill a Mockingbird\", \"Harper Lee\", 1960)\n",
    "my_book.get_info()"
   ]
  },
  {
   "cell_type": "markdown",
   "metadata": {},
   "source": [
    "### Creating a bank account class"
   ]
  },
  {
   "cell_type": "code",
   "execution_count": 39,
   "metadata": {},
   "outputs": [],
   "source": [
    "class BankAccount:\n",
    "    \"\"\"\n",
    "    A class to represent a bank account.\n",
    "    Attributes:\n",
    "        owner (str): The name of the account owner.\n",
    "        balance (float): The current balance of the account. Defaults to 0.0.\n",
    "        transactions (list): A list to store the transaction history.\n",
    "        counter (int): A counter to track the number of transactions.\n",
    "    Methods:\n",
    "        deposit(amount):\n",
    "            Adds the specified amount to the account balance and records the transaction.\n",
    "        withdraw(amount):\n",
    "            Deducts the specified amount from the account balance if sufficient funds are available.\n",
    "            Records the transaction.\n",
    "        get_balance():\n",
    "            Returns the current balance of the account.\n",
    "        get_transaction_history():\n",
    "            Prints the transaction history of the account.\n",
    "        transfer(amount, target_account):\n",
    "            Transfers the specified amount to another BankAccount instance if sufficient funds are available.\n",
    "            Records the transaction in both accounts.\n",
    "    \"\"\"\n",
    "    def __init__(self, owner: str, initial_balance: float = 0.0) -> None:\n",
    "        self.owner: str = owner\n",
    "        self.transactions: list = []\n",
    "        self.__balance: float = initial_balance ## private attribute\n",
    "        self.counter: int = 0\n",
    "\n",
    "    def deposit(self, amount: float) -> None:\n",
    "        # Add the amount to the balance\n",
    "        self.__balance += amount\n",
    "        print(f\"Deposited {amount}. New balance: {self.__balance}\")\n",
    "        self.counter += 1\n",
    "        # Record the transaction\n",
    "        self.transactions.append((self.counter, f\"Deposited {amount}\"))\n",
    "\n",
    "    def withdraw(self, amount: float) -> None:\n",
    "        # Subtract the amount from the balance if there are sufficient funds\n",
    "        if amount > self.__balance:\n",
    "            print(\"Insufficient funds for withdrawal.\")\n",
    "        else:\n",
    "            self.__balance -= amount\n",
    "            print(f\"Withdrew {amount}. New balance: {self.__balance}\")\n",
    "            self.counter += 1\n",
    "            # Record the transaction\n",
    "            self.transactions.append((self.counter, f\"Withdrawn {amount}\"))\n",
    "    \n",
    "    def get_balance(self) -> float:\n",
    "        return self.__balance\n",
    "    \n",
    "    def get_transaction_history(self):\n",
    "        print(\"\\nTransaction History : \")\n",
    "        for transaction in self.transactions:\n",
    "            print(transaction)\n",
    "\n",
    "\n",
    "    def transfer(self, amount: float, target_account: 'BankAccount') -> None:\n",
    "        if amount <= 0:\n",
    "            print(\"Transfer amount must be greater than zero.\")\n",
    "            return\n",
    "        if not isinstance(target_account, BankAccount):\n",
    "            print(\"Invalid target account.\")\n",
    "            return\n",
    "        if amount <= self.__balance:\n",
    "            self.__balance -= amount\n",
    "            target_account.__balance += amount\n",
    "            self.transactions.append((self.counter + 1, f\"Transferred {amount} to {target_account.owner}\"))\n",
    "            target_account.transactions.append((target_account.counter + 1, f\"Received {amount} from {self.owner}\"))\n",
    "            self.counter += 1\n",
    "            target_account.counter += 1\n",
    "            print(f\"Transferred {amount} to {target_account.owner}. New Balance is {self.__balance}\")\n",
    "        else:\n",
    "            print(\"Insufficient funds for transfer.\")\n",
    "\n",
    "    def set_balance(self, new_balance):\n",
    "        if new_balance > 0:\n",
    "            self.__balance = new_balance\n",
    "            print(f\"Balance set to {self.__balance}\")\n",
    "        else:\n",
    "            print(\"Balance cannot be negative.\")\n",
    "            "
   ]
  },
  {
   "cell_type": "code",
   "execution_count": 40,
   "metadata": {},
   "outputs": [
    {
     "name": "stdout",
     "output_type": "stream",
     "text": [
      "Deposited 500. New balance: 1500.0\n",
      "Withdrew 200. New balance: 1300.0\n",
      "Insufficient funds for withdrawal.\n",
      "Current balance: 1300.0\n",
      "\n",
      "Transaction History : \n",
      "(1, 'Deposited 500')\n",
      "(2, 'Withdrawn 200')\n"
     ]
    }
   ],
   "source": [
    "# Create an instance and test the methods\n",
    "account = BankAccount(\"John Doe\", 1000.0)\n",
    "account.deposit(500)\n",
    "account.withdraw(200)\n",
    "account.withdraw(1500)  # This should print a warning message\n",
    "print(f\"Current balance: {account.get_balance()}\")\n",
    "account.get_transaction_history()"
   ]
  },
  {
   "cell_type": "markdown",
   "metadata": {},
   "source": []
  },
  {
   "cell_type": "code",
   "execution_count": 41,
   "metadata": {},
   "outputs": [
    {
     "name": "stdout",
     "output_type": "stream",
     "text": [
      "Transferred 300 to Jane Smith. New Balance is 700.0\n",
      "\n",
      "Transaction History : \n",
      "(1, 'Transferred 300 to Jane Smith')\n",
      "\n",
      "Transaction History : \n",
      "(1, 'Received 300 from John Doe')\n"
     ]
    }
   ],
   "source": [
    "\n",
    "# Create instances and test the transfer method\n",
    "account1 = BankAccount(\"John Doe\", 1000.0)\n",
    "account2 = BankAccount(\"Jane Smith\", 500.0)\n",
    "\n",
    "account1.transfer(300, account2)\n",
    "account1.get_transaction_history()\n",
    "account2.get_transaction_history()"
   ]
  },
  {
   "cell_type": "code",
   "execution_count": 43,
   "metadata": {},
   "outputs": [
    {
     "name": "stdout",
     "output_type": "stream",
     "text": [
      "Deposited 100. New balance: 100.0\n",
      "Withdrew 50. New balance: 50.0\n",
      "Current balance: 50.0\n",
      "Balance set to 200\n",
      "Updated balance: 200\n"
     ]
    }
   ],
   "source": [
    "account = BankAccount(\"johndoe\")\n",
    "account.deposit(100)\n",
    "account.withdraw(50)\n",
    "print(f\"Current balance: {account.get_balance()}\")\n",
    "account.set_balance(200)\n",
    "print(f\"Updated balance: {account.get_balance()}\")"
   ]
  },
  {
   "cell_type": "markdown",
   "metadata": {},
   "source": [
    "# Creating a LibraryBook Class"
   ]
  },
  {
   "cell_type": "code",
   "execution_count": 32,
   "metadata": {},
   "outputs": [],
   "source": [
    "class LibraryBook:\n",
    "    def __init__(self, title, author):\n",
    "        self.title = title\n",
    "        self.author = author\n",
    "        self.is_checked_out = False\n",
    "\n",
    "    def check_out(self):\n",
    "        if not self.is_checked_out:\n",
    "            self.is_checked_out = True\n",
    "            print(f'{self.title} is checked out.')\n",
    "        else:\n",
    "            print(f'{self.title} is already checked out')\n",
    "\n",
    "    def return_book(self):\n",
    "        if self.is_checked_out:\n",
    "            self.is_checked_out = False\n",
    "            print(f'{self.title} is checked in.')\n",
    "        else:\n",
    "            print(f'{self.title} was not checked out')\n",
    "    def get_status(self):\n",
    "        return self.is_checked_out\n"
   ]
  },
  {
   "cell_type": "code",
   "execution_count": 33,
   "metadata": {},
   "outputs": [
    {
     "name": "stdout",
     "output_type": "stream",
     "text": [
      "1984 is checked out.\n",
      "1984 is checked in.\n",
      "To Kill a Mockingbird is checked out.\n"
     ]
    },
    {
     "data": {
      "text/plain": [
       "True"
      ]
     },
     "execution_count": 33,
     "metadata": {},
     "output_type": "execute_result"
    }
   ],
   "source": [
    "book1 = LibraryBook(\"1984\", \"George Orwell\")\n",
    "book2 = LibraryBook(\"To Kill a Mockingbird\", \"Harper Lee\")\n",
    "\n",
    "book1.get_status()\n",
    "book1.check_out()\n",
    "book1.get_status()\n",
    "book1.return_book()\n",
    "book1.get_status()\n",
    "book2.check_out()\n",
    "book2.get_status()"
   ]
  },
  {
   "cell_type": "markdown",
   "metadata": {},
   "source": [
    "# Encapsulation"
   ]
  },
  {
   "cell_type": "markdown",
   "metadata": {},
   "source": []
  },
  {
   "cell_type": "code",
   "execution_count": 54,
   "metadata": {},
   "outputs": [],
   "source": [
    "class Student:\n",
    "    def __init__(self, name):\n",
    "        self.name = name\n",
    "        self.__grades = []  # Private attribute to store grades\n",
    "\n",
    "    def add_grade(self, grade: int) -> None:\n",
    "        # Add the grade if it's valid (0-100)\n",
    "        if grade in range(0,101):\n",
    "            self.__grades.append(grade)\n",
    "            print(f\"{grade} has been to the list of grades.\")\n",
    "        else:\n",
    "            print(\"Please add valid grade in the range of 0-100.\")\n",
    "\n",
    "    def get_average_grade(self) -> float:\n",
    "        # Calculate and return the average of the grades\n",
    "        if not self.__grades:\n",
    "            return 0.0\n",
    "        return sum(self.__grades) / len(self.__grades)\n",
    "\n",
    "\n",
    "    def get_grades(self) -> list:\n",
    "        # Return a copy of the grades list\n",
    "\n",
    "        return self.__grades.copy()\n",
    "\n",
    "    def set_grades(self, new_grades : list) -> None:\n",
    "        # Replace the current grades with new ones if valid        \n",
    "        if all(grade in range(0,101) for grade in new_grades):\n",
    "            self.__grades = new_grades\n",
    "            print(f\"Grades have been set for {self.name}\")\n",
    "        else:\n",
    "            print(\"All grades must be between 0 and 100.\")"
   ]
  },
  {
   "cell_type": "code",
   "execution_count": 55,
   "metadata": {},
   "outputs": [
    {
     "name": "stdout",
     "output_type": "stream",
     "text": [
      "85 has been to the list of grades.\n",
      "92 has been to the list of grades.\n",
      "78 has been to the list of grades.\n",
      "Alice's grades: [85, 92, 78]\n",
      "Alice's average grade: 85.0\n",
      "Grades have been set for Alice\n",
      "Alice's updated grades: [88, 90, 95]\n",
      "Alice's new average grade: 91.0\n"
     ]
    }
   ],
   "source": [
    "\n",
    "# Create an instance and test the methods\n",
    "student = Student(\"Alice\")\n",
    "student.add_grade(85)\n",
    "student.add_grade(92)\n",
    "student.add_grade(78)\n",
    "print(f\"Alice's grades: {student.get_grades()}\")\n",
    "print(f\"Alice's average grade: {student.get_average_grade()}\")\n",
    "student.set_grades([88, 90, 95])\n",
    "print(f\"Alice's updated grades: {student.get_grades()}\")\n",
    "print(f\"Alice's new average grade: {student.get_average_grade()}\")"
   ]
  },
  {
   "cell_type": "code",
   "execution_count": 53,
   "metadata": {},
   "outputs": [
    {
     "name": "stdout",
     "output_type": "stream",
     "text": [
      "Please add valid grade in the range of 0-100.\n"
     ]
    }
   ],
   "source": [
    "student.add_grade(178)"
   ]
  },
  {
   "cell_type": "code",
   "execution_count": null,
   "metadata": {},
   "outputs": [],
   "source": [
    "class Student:\n",
    "    def __init__(self, name: str, student_id: str):\n",
    "        self.name = name\n",
    "        self.__student_id = student_id  # Private attribute for student ID\n",
    "        self.__grades = []  # Private attribute to store grades\n",
    "\n",
    "    def add_grade(self, grade: int) -> None:\n",
    "        if self.__validate_grade(grade):\n",
    "            self.__grades.append(grade)\n",
    "            print(f\"{grade} has been added to the list of grades.\")\n",
    "        else:\n",
    "            print(\"Please add a valid grade in the range of 0-100.\")\n",
    "\n",
    "    def get_average_grade(self) -> float:\n",
    "        if not self.__grades:\n",
    "            return 0.0\n",
    "        return sum(self.__grades) / len(self.__grades)\n",
    "\n",
    "    def get_grades(self) -> list:\n",
    "        return self.__grades.copy()\n",
    "\n",
    "    def set_grades(self, new_grades: list) -> None:\n",
    "        if all(self.__validate_grade(grade) for grade in new_grades):\n",
    "            self.__grades = new_grades\n",
    "            print(f\"Grades have been set for {self.name}.\")\n",
    "        else:\n",
    "            print(\"All grades must be between 0 and 100.\")\n",
    "\n",
    "    def get_student_id(self) -> str:\n",
    "        # Public method to access the private student ID\n",
    "        return self.__student_id\n",
    "\n",
    "    def __validate_grade(self, grade: int) -> bool:\n",
    "        # Private method to validate a grade\n",
    "        return 0 <= grade <= 100\n",
    "\n",
    "# Testing the class\n",
    "student = Student(\"Alice\", \"S12345\")\n",
    "student.add_grade(85)\n",
    "student.add_grade(92)\n",
    "student.add_grade(78)\n",
    "print(f\"Alice's grades: {student.get_grades()}\")\n",
    "print(f\"Alice's average grade: {student.get_average_grade()}\")\n",
    "print(f\"Alice's student ID: {student.get_student_id()}\")      "
   ]
  },
  {
   "cell_type": "code",
   "execution_count": null,
   "metadata": {},
   "outputs": [],
   "source": []
  }
 ],
 "metadata": {
  "kernelspec": {
   "display_name": "base",
   "language": "python",
   "name": "python3"
  },
  "language_info": {
   "codemirror_mode": {
    "name": "ipython",
    "version": 3
   },
   "file_extension": ".py",
   "mimetype": "text/x-python",
   "name": "python",
   "nbconvert_exporter": "python",
   "pygments_lexer": "ipython3",
   "version": "3.12.4"
  }
 },
 "nbformat": 4,
 "nbformat_minor": 2
}
