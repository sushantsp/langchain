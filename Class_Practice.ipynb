{
 "cells": [
  {
   "cell_type": "code",
   "execution_count": 1,
   "metadata": {},
   "outputs": [],
   "source": [
    "class Car:\n",
    "    def __init__(self, make, model, year):\n",
    "        self.make = make\n",
    "        self.model = model\n",
    "        self.year = year\n",
    "\n",
    "    def describe(self):\n",
    "        print(f\"{self.year} {self.make} {self.model}\")\n"
   ]
  },
  {
   "cell_type": "code",
   "execution_count": 2,
   "metadata": {},
   "outputs": [],
   "source": [
    "my_car = Car(\"Toyota\", \"Corolla\", 2021)"
   ]
  },
  {
   "cell_type": "code",
   "execution_count": 3,
   "metadata": {},
   "outputs": [
    {
     "name": "stdout",
     "output_type": "stream",
     "text": [
      "2021 Toyota Corolla\n"
     ]
    }
   ],
   "source": [
    "my_car.describe()"
   ]
  },
  {
   "cell_type": "code",
   "execution_count": 10,
   "metadata": {},
   "outputs": [],
   "source": [
    "class Book:\n",
    "    def __init__(self, title, author, year):\n",
    "        self.title = title\n",
    "        self.author = author\n",
    "        self.year = year\n",
    "\n",
    "    def get_info(self):\n",
    "        print(f\"Title: {self.title}, \\nAuthor: {self.author},\\nYear: {self.year}\")"
   ]
  },
  {
   "cell_type": "code",
   "execution_count": 11,
   "metadata": {},
   "outputs": [
    {
     "name": "stdout",
     "output_type": "stream",
     "text": [
      "Title: To Kill a Mockingbird, \n",
      "Author: Harper Lee,\n",
      "Year: 1960\n"
     ]
    }
   ],
   "source": [
    "my_book = Book(\"To Kill a Mockingbird\", \"Harper Lee\", 1960)\n",
    "my_book.get_info()"
   ]
  },
  {
   "cell_type": "markdown",
   "metadata": {},
   "source": [
    "### Creating a bank account class"
   ]
  },
  {
   "cell_type": "code",
   "execution_count": 21,
   "metadata": {},
   "outputs": [],
   "source": [
    "class BankAccount:\n",
    "    \"\"\"\n",
    "    A class to represent a bank account.\n",
    "    Attributes:\n",
    "        owner (str): The name of the account owner.\n",
    "        balance (float): The current balance of the account. Defaults to 0.0.\n",
    "        transactions (list): A list to store the transaction history.\n",
    "        counter (int): A counter to track the number of transactions.\n",
    "    Methods:\n",
    "        deposit(amount):\n",
    "            Adds the specified amount to the account balance and records the transaction.\n",
    "        withdraw(amount):\n",
    "            Deducts the specified amount from the account balance if sufficient funds are available.\n",
    "            Records the transaction.\n",
    "        get_balance():\n",
    "            Returns the current balance of the account.\n",
    "        get_transaction_history():\n",
    "            Prints the transaction history of the account.\n",
    "        transfer(amount, target_account):\n",
    "            Transfers the specified amount to another BankAccount instance if sufficient funds are available.\n",
    "            Records the transaction in both accounts.\n",
    "    \"\"\"\n",
    "    def __init__(self, owner: str, balance: float = 0.0) -> None:\n",
    "        self.owner: str = owner\n",
    "        self.transactions: list = []\n",
    "        self.balance: float = balance\n",
    "        self.counter: int = 0\n",
    "\n",
    "    def deposit(self, amount: float) -> None:\n",
    "        # Add the amount to the balance\n",
    "        self.balance += amount\n",
    "        print(f\"Deposited {amount}. New balance: {self.balance}\")\n",
    "        self.counter += 1\n",
    "        # Record the transaction\n",
    "        self.transactions.append((self.counter, f\"Deposited {amount}\"))\n",
    "\n",
    "    def withdraw(self, amount: float) -> None:\n",
    "        # Subtract the amount from the balance if there are sufficient funds\n",
    "        if amount > self.balance:\n",
    "            print(\"Insufficient funds for withdrawal.\")\n",
    "        else:\n",
    "            self.balance -= amount\n",
    "            print(f\"Withdrew {amount}. New balance: {self.balance}\")\n",
    "            self.counter += 1\n",
    "            # Record the transaction\n",
    "            self.transactions.append((self.counter, f\"Withdrawn {amount}\"))\n",
    "    \n",
    "    def get_balance(self) -> float:\n",
    "        return self.balance\n",
    "    \n",
    "    def get_transaction_history(self):\n",
    "        print(\"\\nTransaction History : \")\n",
    "        for transaction in self.transactions:\n",
    "            print(transaction)\n",
    "\n",
    "\n",
    "    def transfer(self, amount: float, target_account: 'BankAccount') -> None:\n",
    "        if amount <= 0:\n",
    "            print(\"Transfer amount must be greater than zero.\")\n",
    "            return\n",
    "        if not isinstance(target_account, BankAccount):\n",
    "            print(\"Invalid target account.\")\n",
    "            return\n",
    "        if amount <= self.balance:\n",
    "            self.balance -= amount\n",
    "            target_account.balance += amount\n",
    "            self.transactions.append((self.counter + 1, f\"Transferred {amount} to {target_account.owner}\"))\n",
    "            target_account.transactions.append((target_account.counter + 1, f\"Received {amount} from {self.owner}\"))\n",
    "            self.counter += 1\n",
    "            target_account.counter += 1\n",
    "            print(f\"Transferred {amount} to {target_account.owner}. New Balance is {self.balance}\")\n",
    "        else:\n",
    "            print(\"Insufficient funds for transfer.\")"
   ]
  },
  {
   "cell_type": "code",
   "execution_count": 22,
   "metadata": {},
   "outputs": [
    {
     "name": "stdout",
     "output_type": "stream",
     "text": [
      "Deposited 500. New balance: 1500.0\n",
      "Withdrew 200. New balance: 1300.0\n",
      "Insufficient funds for withdrawal.\n",
      "Current balance: 1300.0\n",
      "\n",
      "Transaction History : \n",
      "(1, 'Deposited 500')\n",
      "(2, 'Withdrawn 200')\n"
     ]
    }
   ],
   "source": [
    "# Create an instance and test the methods\n",
    "account = BankAccount(\"John Doe\", 1000.0)\n",
    "account.deposit(500)\n",
    "account.withdraw(200)\n",
    "account.withdraw(1500)  # This should print a warning message\n",
    "print(f\"Current balance: {account.get_balance()}\")\n",
    "account.get_transaction_history()"
   ]
  },
  {
   "cell_type": "markdown",
   "metadata": {},
   "source": []
  },
  {
   "cell_type": "code",
   "execution_count": 23,
   "metadata": {},
   "outputs": [
    {
     "name": "stdout",
     "output_type": "stream",
     "text": [
      "Transferred 300 to Jane Smith. New Balance is 700.0\n",
      "\n",
      "Transaction History : \n",
      "(1, 'Transferred 300 to Jane Smith')\n",
      "\n",
      "Transaction History : \n",
      "(1, 'Received 300 from John Doe')\n"
     ]
    }
   ],
   "source": [
    "\n",
    "# Create instances and test the transfer method\n",
    "account1 = BankAccount(\"John Doe\", 1000.0)\n",
    "account2 = BankAccount(\"Jane Smith\", 500.0)\n",
    "\n",
    "account1.transfer(300, account2)\n",
    "account1.get_transaction_history()\n",
    "account2.get_transaction_history()"
   ]
  },
  {
   "cell_type": "code",
   "execution_count": null,
   "metadata": {},
   "outputs": [],
   "source": []
  },
  {
   "cell_type": "code",
   "execution_count": null,
   "metadata": {},
   "outputs": [],
   "source": []
  },
  {
   "cell_type": "code",
   "execution_count": null,
   "metadata": {},
   "outputs": [],
   "source": []
  }
 ],
 "metadata": {
  "kernelspec": {
   "display_name": "base",
   "language": "python",
   "name": "python3"
  },
  "language_info": {
   "codemirror_mode": {
    "name": "ipython",
    "version": 3
   },
   "file_extension": ".py",
   "mimetype": "text/x-python",
   "name": "python",
   "nbconvert_exporter": "python",
   "pygments_lexer": "ipython3",
   "version": "3.12.4"
  }
 },
 "nbformat": 4,
 "nbformat_minor": 2
}
