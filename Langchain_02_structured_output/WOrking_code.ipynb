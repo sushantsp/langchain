{
 "cells": [
  {
   "cell_type": "code",
   "execution_count": 1,
   "id": "1f5b3f60",
   "metadata": {},
   "outputs": [],
   "source": [
    "from langchain_openai import ChatOpenAI\n",
    "from dotenv import load_dotenv\n",
    "from typing import TypedDict, Annotated, Optional, Literal\n",
    "from pydantic import BaseModel, Field"
   ]
  },
  {
   "cell_type": "code",
   "execution_count": 2,
   "id": "18fb3c49",
   "metadata": {},
   "outputs": [],
   "source": [
    "load_dotenv()\n",
    "\n",
    "model = ChatOpenAI(\n",
    "    model=\"gpt-4o\",\n",
    "    temperature=0,\n",
    "    max_tokens=None,\n",
    ")"
   ]
  },
  {
   "cell_type": "code",
   "execution_count": 3,
   "id": "519c8893",
   "metadata": {},
   "outputs": [
    {
     "data": {
      "text/plain": [
       "AIMessage(content='Hello! How can I assist you today?', additional_kwargs={'refusal': None}, response_metadata={'token_usage': {'completion_tokens': 10, 'prompt_tokens': 8, 'total_tokens': 18, 'completion_tokens_details': {'accepted_prediction_tokens': 0, 'audio_tokens': 0, 'reasoning_tokens': 0, 'rejected_prediction_tokens': 0}, 'prompt_tokens_details': {'audio_tokens': 0, 'cached_tokens': 0}}, 'model_name': 'gpt-4o-2024-08-06', 'system_fingerprint': 'fp_92f14e8683', 'id': 'chatcmpl-BLS5Mfs9wBuu05Re3nU1aqu8uh4Ow', 'finish_reason': 'stop', 'logprobs': None}, id='run-800c0e44-7a56-4f9a-b990-d3d674bedc24-0', usage_metadata={'input_tokens': 8, 'output_tokens': 10, 'total_tokens': 18, 'input_token_details': {'audio': 0, 'cache_read': 0}, 'output_token_details': {'audio': 0, 'reasoning': 0}})"
      ]
     },
     "execution_count": 3,
     "metadata": {},
     "output_type": "execute_result"
    }
   ],
   "source": [
    "model.invoke(\"Hi\")"
   ]
  },
  {
   "cell_type": "code",
   "execution_count": 4,
   "id": "e995b9af",
   "metadata": {},
   "outputs": [],
   "source": [
    "# schema\n",
    "class Review(BaseModel):\n",
    "\n",
    "    key_themes: list[str] = Field(description=\"Write down all the key themes discussed in the review in a list\")\n",
    "    summary: str = Field(description=\"A brief summary of the review\")\n",
    "    sentiment: Literal[\"pos\", \"neg\"] = Field(description=\"Return sentiment of the review either negative, positive or neutral\")\n",
    "    pros: Optional[list[str]] = Field(default=None, description=\"Write down all the pros inside a list\")\n",
    "    cons: Optional[list[str]] = Field(default=None, description=\"Write down all the cons inside a list\")\n",
    "    name: Optional[str] = Field(default=None, description=\"Write the name of the reviewer\")\n",
    "\n",
    "\n",
    "structured_model = model.with_structured_output(Review)\n"
   ]
  },
  {
   "cell_type": "code",
   "execution_count": 5,
   "id": "98b16278",
   "metadata": {},
   "outputs": [
    {
     "name": "stdout",
     "output_type": "stream",
     "text": [
      "key_themes=['Performance', 'Camera quality', 'Battery life', 'S-Pen integration', 'Device size and weight', 'Bloatware', 'Price'] summary='The Samsung Galaxy S24 Ultra impresses with its powerful performance, exceptional camera capabilities, and long-lasting battery life, though it is slightly hindered by its size, bloatware, and high price.' sentiment='pos' pros=['Insanely powerful processor (great for gaming and productivity)', 'Stunning 200MP camera with incredible zoom capabilities', 'Long battery life with fast charging', 'S-Pen support is unique and useful'] cons=['Weight and size make it uncomfortable for one-handed use', 'Presence of bloatware', 'High price tag'] name='Sushant Penshanwar'\n"
     ]
    }
   ],
   "source": [
    "result = structured_model.invoke(\"\"\"I recently upgraded to the Samsung Galaxy S24 Ultra, and I must say, it’s an absolute powerhouse! The Snapdragon 8 Gen 3 processor makes everything lightning fast—whether I’m gaming, multitasking, or editing photos. The 5000mAh battery easily lasts a full day even with heavy use, and the 45W fast charging is a lifesaver.\n",
    "\n",
    "The S-Pen integration is a great touch for note-taking and quick sketches, though I don't use it often. What really blew me away is the 200MP camera—the night mode is stunning, capturing crisp, vibrant images even in low light. Zooming up to 100x actually works well for distant objects, but anything beyond 30x loses quality.\n",
    "\n",
    "However, the weight and size make it a bit uncomfortable for one-handed use. Also, Samsung’s One UI still comes with bloatware—why do I need five different Samsung apps for things Google already provides? The $1,300 price tag is also a hard pill to swallow.\n",
    "\n",
    "Pros:\n",
    "Insanely powerful processor (great for gaming and productivity)\n",
    "Stunning 200MP camera with incredible zoom capabilities\n",
    "Long battery life with fast charging\n",
    "S-Pen support is unique and useful\n",
    "                                 \n",
    "Review by Sushant Penshanwar\n",
    "\"\"\")\n",
    "\n",
    "print(result)"
   ]
  },
  {
   "cell_type": "code",
   "execution_count": 7,
   "id": "b16240bb",
   "metadata": {},
   "outputs": [
    {
     "data": {
      "text/plain": [
       "{'key_themes': ['Performance',\n",
       "  'Camera quality',\n",
       "  'Battery life',\n",
       "  'S-Pen integration',\n",
       "  'Device size and weight',\n",
       "  'Bloatware',\n",
       "  'Price'],\n",
       " 'summary': 'The Samsung Galaxy S24 Ultra impresses with its powerful performance, exceptional camera capabilities, and long-lasting battery life, though it is slightly hindered by its size, bloatware, and high price.',\n",
       " 'sentiment': 'pos',\n",
       " 'pros': ['Insanely powerful processor (great for gaming and productivity)',\n",
       "  'Stunning 200MP camera with incredible zoom capabilities',\n",
       "  'Long battery life with fast charging',\n",
       "  'S-Pen support is unique and useful'],\n",
       " 'cons': ['Weight and size make it uncomfortable for one-handed use',\n",
       "  'Presence of bloatware',\n",
       "  'High price tag'],\n",
       " 'name': 'Sushant Penshanwar'}"
      ]
     },
     "execution_count": 7,
     "metadata": {},
     "output_type": "execute_result"
    }
   ],
   "source": [
    "dict(result)"
   ]
  },
  {
   "cell_type": "code",
   "execution_count": null,
   "id": "7d28e663",
   "metadata": {},
   "outputs": [],
   "source": []
  }
 ],
 "metadata": {
  "kernelspec": {
   "display_name": "open-webui",
   "language": "python",
   "name": "python3"
  },
  "language_info": {
   "codemirror_mode": {
    "name": "ipython",
    "version": 3
   },
   "file_extension": ".py",
   "mimetype": "text/x-python",
   "name": "python",
   "nbconvert_exporter": "python",
   "pygments_lexer": "ipython3",
   "version": "3.11.11"
  }
 },
 "nbformat": 4,
 "nbformat_minor": 5
}
